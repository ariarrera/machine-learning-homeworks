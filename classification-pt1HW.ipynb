{
 "cells": [
  {
   "cell_type": "markdown",
   "metadata": {},
   "source": [
    "Hello!\n",
    "\n",
    "In this little piece of work I am goin to predict the sentiment of two channels, CNN and BBC, and see which one of those two produce the most positive news."
   ]
  },
  {
   "cell_type": "markdown",
   "metadata": {},
   "source": [
    "## Training models\n",
    "\n",
    "First of all, I am going to train two classifiers on Amazon data and see which one performs better, based on F1 score. "
   ]
  },
  {
   "cell_type": "code",
   "execution_count": 1,
   "metadata": {},
   "outputs": [
    {
     "data": {
      "text/html": [
       "<div>\n",
       "<style scoped>\n",
       "    .dataframe tbody tr th:only-of-type {\n",
       "        vertical-align: middle;\n",
       "    }\n",
       "\n",
       "    .dataframe tbody tr th {\n",
       "        vertical-align: top;\n",
       "    }\n",
       "\n",
       "    .dataframe thead th {\n",
       "        text-align: right;\n",
       "    }\n",
       "</style>\n",
       "<table border=\"1\" class=\"dataframe\">\n",
       "  <thead>\n",
       "    <tr style=\"text-align: right;\">\n",
       "      <th></th>\n",
       "      <th>text</th>\n",
       "      <th>score</th>\n",
       "    </tr>\n",
       "  </thead>\n",
       "  <tbody>\n",
       "    <tr>\n",
       "      <th>0</th>\n",
       "      <td>So there is no way for me to plug it in here i...</td>\n",
       "      <td>0</td>\n",
       "    </tr>\n",
       "    <tr>\n",
       "      <th>1</th>\n",
       "      <td>Good case, Excellent value.</td>\n",
       "      <td>1</td>\n",
       "    </tr>\n",
       "    <tr>\n",
       "      <th>2</th>\n",
       "      <td>Great for the jawbone.</td>\n",
       "      <td>1</td>\n",
       "    </tr>\n",
       "    <tr>\n",
       "      <th>3</th>\n",
       "      <td>Tied to charger for conversations lasting more...</td>\n",
       "      <td>0</td>\n",
       "    </tr>\n",
       "    <tr>\n",
       "      <th>4</th>\n",
       "      <td>The mic is great.</td>\n",
       "      <td>1</td>\n",
       "    </tr>\n",
       "  </tbody>\n",
       "</table>\n",
       "</div>"
      ],
      "text/plain": [
       "                                                text  score\n",
       "0  So there is no way for me to plug it in here i...      0\n",
       "1                        Good case, Excellent value.      1\n",
       "2                             Great for the jawbone.      1\n",
       "3  Tied to charger for conversations lasting more...      0\n",
       "4                                  The mic is great.      1"
      ]
     },
     "execution_count": 1,
     "metadata": {},
     "output_type": "execute_result"
    }
   ],
   "source": [
    "#loading the data\n",
    "import numpy as np\n",
    "import pandas as pd\n",
    "\n",
    "amc = pd.read_csv('amazon_cells_labelled.txt', header=None, sep = '\\t')\n",
    "\n",
    "amc0 = amc.rename(columns={amc.columns[0]: \"text\", amc.columns[1]: \"score\"})\n",
    "amc0.head()"
   ]
  },
  {
   "cell_type": "code",
   "execution_count": 2,
   "metadata": {},
   "outputs": [
    {
     "name": "stderr",
     "output_type": "stream",
     "text": [
      "[nltk_data] Downloading package punkt to\n",
      "[nltk_data]     C:\\Users\\Asus\\AppData\\Roaming\\nltk_data...\n",
      "[nltk_data]   Package punkt is already up-to-date!\n"
     ]
    },
    {
     "data": {
      "text/html": [
       "<div>\n",
       "<style scoped>\n",
       "    .dataframe tbody tr th:only-of-type {\n",
       "        vertical-align: middle;\n",
       "    }\n",
       "\n",
       "    .dataframe tbody tr th {\n",
       "        vertical-align: top;\n",
       "    }\n",
       "\n",
       "    .dataframe thead th {\n",
       "        text-align: right;\n",
       "    }\n",
       "</style>\n",
       "<table border=\"1\" class=\"dataframe\">\n",
       "  <thead>\n",
       "    <tr style=\"text-align: right;\">\n",
       "      <th></th>\n",
       "      <th>text</th>\n",
       "      <th>score</th>\n",
       "    </tr>\n",
       "  </thead>\n",
       "  <tbody>\n",
       "    <tr>\n",
       "      <th>0</th>\n",
       "      <td>so there is no way for me to plug it in here i...</td>\n",
       "      <td>0</td>\n",
       "    </tr>\n",
       "    <tr>\n",
       "      <th>1</th>\n",
       "      <td>good case , excellent value .</td>\n",
       "      <td>1</td>\n",
       "    </tr>\n",
       "    <tr>\n",
       "      <th>2</th>\n",
       "      <td>great for the jawbone .</td>\n",
       "      <td>1</td>\n",
       "    </tr>\n",
       "    <tr>\n",
       "      <th>3</th>\n",
       "      <td>tied to charger for conversations lasting more...</td>\n",
       "      <td>0</td>\n",
       "    </tr>\n",
       "    <tr>\n",
       "      <th>4</th>\n",
       "      <td>the mic is great .</td>\n",
       "      <td>1</td>\n",
       "    </tr>\n",
       "  </tbody>\n",
       "</table>\n",
       "</div>"
      ],
      "text/plain": [
       "                                                text  score\n",
       "0  so there is no way for me to plug it in here i...      0\n",
       "1                      good case , excellent value .      1\n",
       "2                            great for the jawbone .      1\n",
       "3  tied to charger for conversations lasting more...      0\n",
       "4                                 the mic is great .      1"
      ]
     },
     "execution_count": 2,
     "metadata": {},
     "output_type": "execute_result"
    }
   ],
   "source": [
    "#cleaning and tokenizing the data\n",
    "import pymorphy2\n",
    "import nltk\n",
    "from nltk.tokenize import word_tokenize\n",
    "morph = pymorphy2.MorphAnalyzer()\n",
    "\n",
    "nltk.download('punkt')\n",
    "import re\n",
    "\n",
    "def clear_data(df):\n",
    "    df['text'] = df['text'].apply(lambda text: text.strip().split('|')[-1].split('http')[0].strip().lower())\n",
    "    df['text'] = df['text'].apply(lambda text: re.sub('[\\?!:)(«»@#$_1234567890#—ツ►๑۩۞۩•*”˜˜”*°°*`&]', '', text))\n",
    "    return df\n",
    "\n",
    "\n",
    "\n",
    "def tokenize_and_stem(df):\n",
    "    df['text'] = df['text'].apply(lambda text: word_tokenize(text))\n",
    "    df['text'] = df['text'].apply(lambda text: [morph.parse(word)[0].normal_form for word in text])\n",
    "    df['text'] = df['text'].apply(lambda text: ' '.join(text))\n",
    "    return df\n",
    "\n",
    "\n",
    "amc_clean0 = clear_data(amc0)\n",
    "amc_clean = tokenize_and_stem(amc_clean0)\n",
    "amc_clean.head()"
   ]
  },
  {
   "cell_type": "code",
   "execution_count": 3,
   "metadata": {},
   "outputs": [
    {
     "name": "stdout",
     "output_type": "stream",
     "text": [
      "Vectorization of documents\n"
     ]
    },
    {
     "name": "stderr",
     "output_type": "stream",
     "text": [
      "C:\\Users\\Asus\\Anaconda3\\lib\\site-packages\\sklearn\\feature_extraction\\text.py:301: UserWarning: Your stop_words may be inconsistent with your preprocessing. Tokenizing the stop words generated tokens ['cnn'] not in stop_words.\n",
      "  'stop_words.' % sorted(inconsistent))\n"
     ]
    },
    {
     "name": "stdout",
     "output_type": "stream",
     "text": [
      "documents number :  1000 feature number:  1693\n"
     ]
    }
   ],
   "source": [
    "#creating a vector of words out of cleaned and toknized data\n",
    "words = []\n",
    "\n",
    "\n",
    "for line in open('stopwords-en.txt'):\n",
    "    line = line.split('\\n') \n",
    "    line = line[0]\n",
    "    words.append(line)\n",
    "\n",
    "words = frozenset(words)\n",
    "\n",
    "print('Vectorization of documents')\n",
    "from sklearn.feature_extraction.text import TfidfVectorizer\n",
    "vec = TfidfVectorizer(ngram_range=(1,1), stop_words=(words))\n",
    "\n",
    "yx = vec.fit_transform(amc_clean['text'])\n",
    "amc_data = vec.fit_transform(amc_clean['text']).toarray()\n",
    "\n",
    "num_docs, num_feature = yx.shape\n",
    "print('documents number : ', num_docs, 'feature number: ', num_feature)"
   ]
  },
  {
   "cell_type": "code",
   "execution_count": 4,
   "metadata": {},
   "outputs": [
    {
     "name": "stdout",
     "output_type": "stream",
     "text": [
      "Test collection size:  (330, 1693)\n",
      "Training collection size:  (670, 1693)\n"
     ]
    }
   ],
   "source": [
    "#creating a vector of answers\n",
    "Y = amc_clean['score'].values\n",
    "YY = Y.ravel()\n",
    "\n",
    "#here, I split the data on tarining and test sets with a threshold of 0.33\n",
    "from sklearn.model_selection import train_test_split\n",
    "\n",
    "X_train, X_test, y_train, y_test = train_test_split(amc_data, Y, test_size=0.33, random_state=42)\n",
    "\n",
    "print('Test collection size: ', X_test.shape)\n",
    "print('Training collection size: ', X_train.shape)"
   ]
  },
  {
   "cell_type": "markdown",
   "metadata": {},
   "source": [
    "Training Random Forest model"
   ]
  },
  {
   "cell_type": "code",
   "execution_count": 5,
   "metadata": {},
   "outputs": [
    {
     "name": "stdout",
     "output_type": "stream",
     "text": [
      "average value f1_macro (5 runs): \n"
     ]
    },
    {
     "name": "stderr",
     "output_type": "stream",
     "text": [
      "C:\\Users\\Asus\\Anaconda3\\lib\\site-packages\\sklearn\\externals\\joblib\\numpy_pickle.py:104: DeprecationWarning: tostring() is deprecated. Use tobytes() instead.\n",
      "  pickler.file_handle.write(chunk.tostring('C'))\n",
      "C:\\Users\\Asus\\Anaconda3\\lib\\site-packages\\sklearn\\externals\\joblib\\numpy_pickle.py:104: DeprecationWarning: tostring() is deprecated. Use tobytes() instead.\n",
      "  pickler.file_handle.write(chunk.tostring('C'))\n",
      "C:\\Users\\Asus\\Anaconda3\\lib\\site-packages\\sklearn\\externals\\joblib\\numpy_pickle.py:104: DeprecationWarning: tostring() is deprecated. Use tobytes() instead.\n",
      "  pickler.file_handle.write(chunk.tostring('C'))\n",
      "C:\\Users\\Asus\\Anaconda3\\lib\\site-packages\\sklearn\\externals\\joblib\\numpy_pickle.py:104: DeprecationWarning: tostring() is deprecated. Use tobytes() instead.\n",
      "  pickler.file_handle.write(chunk.tostring('C'))\n"
     ]
    },
    {
     "name": "stdout",
     "output_type": "stream",
     "text": [
      "0.7715423480506086\n"
     ]
    },
    {
     "name": "stderr",
     "output_type": "stream",
     "text": [
      "C:\\Users\\Asus\\Anaconda3\\lib\\site-packages\\sklearn\\externals\\joblib\\numpy_pickle.py:104: DeprecationWarning: tostring() is deprecated. Use tobytes() instead.\n",
      "  pickler.file_handle.write(chunk.tostring('C'))\n"
     ]
    }
   ],
   "source": [
    "from sklearn import metrics\n",
    "from sklearn.metrics import accuracy_score, f1_score, precision_score, recall_score, classification_report, confusion_matrix\n",
    "from sklearn.ensemble import RandomForestClassifier\n",
    "from sklearn.model_selection import cross_val_score\n",
    "\n",
    "# define the parameters for the model\n",
    "clf = RandomForestClassifier(\n",
    "    n_estimators=50, # The number of trees in the forest.\n",
    "    criterion='gini', #  function to measure the quality of a split (Gini impurity and “entropy”)\n",
    "    max_depth=5, # The maximum depth of the tree\n",
    "    min_samples_split=2, # The minimum number of samples required to split\n",
    "    min_samples_leaf=1, # The minimum number of samples required to be at a leaf node\n",
    "    min_weight_fraction_leaf=0.0, # The minimum weighted fraction of the sum total of weights\n",
    "    max_features='auto', # The number of features to consider when looking for the best split.\n",
    "    max_leaf_nodes=None,\n",
    "    min_impurity_decrease=0.0, # Threshold for early stopping in tree growth. \n",
    "    min_impurity_split=None,\n",
    "    bootstrap=True,\n",
    "    oob_score=False,\n",
    "    n_jobs=-1,  # The number of jobs to run in parallel. -1 means using all processors.\n",
    "    random_state=0, # \n",
    "    verbose=0,\n",
    "    warm_start=False,\n",
    "    class_weight='balanced')\n",
    "\n",
    "print('average value f1_macro (5 runs): ')\n",
    "print(np.mean(cross_val_score(clf, X_train, y_train, cv=5, scoring='f1_macro')))"
   ]
  },
  {
   "cell_type": "markdown",
   "metadata": {},
   "source": [
    "F1 score for Random Forest is 0.77 which is relatively good.\n",
    "Let's get to another classifier, KNN"
   ]
  },
  {
   "cell_type": "code",
   "execution_count": 6,
   "metadata": {},
   "outputs": [
    {
     "name": "stdout",
     "output_type": "stream",
     "text": [
      "0.6994059301001274\n"
     ]
    }
   ],
   "source": [
    "from sklearn.neighbors import KNeighborsClassifier\n",
    "\n",
    "#define parameters for the model\n",
    "neighbors=50\n",
    "weights = 'uniform'\n",
    "p = 2\n",
    "\n",
    "cv_scores_train = []\n",
    "cv_scores_test = []\n",
    "\n",
    "# # in the loop, iterate over the number of neighbors and calculate the average value of F1\n",
    "for k in range(1, neighbors):\n",
    "    knn = KNeighborsClassifier(n_neighbors=k, algorithm='auto', leaf_size=30, p=2)\n",
    "    knn.fit(X_train, y_train)\n",
    "\n",
    "   # calculating the average value of F1 for different partitions\n",
    "    scores = cross_val_score(knn, X_train, y_train, cv=5, scoring='f1_macro')\n",
    "    # calculating the average scores for all partitions\n",
    "    #print(np.mean(scores))\n",
    "    cv_scores_train.append(np.mean(scores))\n",
    "    \n",
    "    scores = cross_val_score(knn, X_test, y_test, cv=5, scoring='f1_macro')\n",
    "    # adding the next average value of f1_macro to the list\n",
    "    cv_scores_test.append(np.mean(scores))\n",
    "    \n",
    "print(np.mean(scores))"
   ]
  },
  {
   "cell_type": "markdown",
   "metadata": {},
   "source": [
    "F1 score for KNN is 0.69 which is lower than for the previous one. Guess I am opting for Random Forest classifier"
   ]
  },
  {
   "cell_type": "markdown",
   "metadata": {},
   "source": [
    "### Predicting scores for channels\n",
    "\n",
    "Now, I can proceed to work with CNN and BBC data using the model I've just built"
   ]
  },
  {
   "cell_type": "code",
   "execution_count": 7,
   "metadata": {},
   "outputs": [
    {
     "name": "stdout",
     "output_type": "stream",
     "text": [
      "Dataset size (3929, 3)\n",
      "row number:  3929\n",
      "feature number:  4\n",
      "\n",
      "names of features:  ['id', 'date', 'text', 'channel']\n",
      "-------------------\n",
      "full data loaded\n",
      "-------------------\n"
     ]
    }
   ],
   "source": [
    "#loading the data\n",
    "#firts, the dataset for BBC\n",
    "d1=pd.read_csv('bbchealth.txt',  sep='|', encoding='ANSI', header = None)\n",
    "\n",
    "print('Dataset size', d1.shape)\n",
    "\n",
    "\n",
    "d1 = d1.rename(columns={d1.columns[0]: \"id\", d1.columns[1]: \"date\", d1.columns[2]: \"text\"})\n",
    "#here, I add a new column with the name of the channel\n",
    "d1['channel'] = 'BBC'\n",
    "num_rows1, num_feature1 = d1.shape\n",
    "\n",
    "print('row number: ', num_rows1)\n",
    "print('feature number: ', num_feature1)\n",
    "print()\n",
    "print('names of features: ', list(d1))\n",
    "\n",
    "print('-------------------')\n",
    "print('full data loaded')\n",
    "print('-------------------')"
   ]
  },
  {
   "cell_type": "code",
   "execution_count": 8,
   "metadata": {},
   "outputs": [
    {
     "data": {
      "text/html": [
       "<div>\n",
       "<style scoped>\n",
       "    .dataframe tbody tr th:only-of-type {\n",
       "        vertical-align: middle;\n",
       "    }\n",
       "\n",
       "    .dataframe tbody tr th {\n",
       "        vertical-align: top;\n",
       "    }\n",
       "\n",
       "    .dataframe thead th {\n",
       "        text-align: right;\n",
       "    }\n",
       "</style>\n",
       "<table border=\"1\" class=\"dataframe\">\n",
       "  <thead>\n",
       "    <tr style=\"text-align: right;\">\n",
       "      <th></th>\n",
       "      <th>id</th>\n",
       "      <th>date</th>\n",
       "      <th>text</th>\n",
       "      <th>channel</th>\n",
       "    </tr>\n",
       "  </thead>\n",
       "  <tbody>\n",
       "    <tr>\n",
       "      <th>0</th>\n",
       "      <td>585978391360221184</td>\n",
       "      <td>Thu Apr 09 01:31:50 +0000 2015</td>\n",
       "      <td>Breast cancer risk test devised http://bbc.in/...</td>\n",
       "      <td>BBC</td>\n",
       "    </tr>\n",
       "    <tr>\n",
       "      <th>1</th>\n",
       "      <td>585947808772960257</td>\n",
       "      <td>Wed Apr 08 23:30:18 +0000 2015</td>\n",
       "      <td>GP workload harming care - BMA poll http://bbc...</td>\n",
       "      <td>BBC</td>\n",
       "    </tr>\n",
       "    <tr>\n",
       "      <th>2</th>\n",
       "      <td>585947807816650752</td>\n",
       "      <td>Wed Apr 08 23:30:18 +0000 2015</td>\n",
       "      <td>Short people's 'heart risk greater' http://bbc...</td>\n",
       "      <td>BBC</td>\n",
       "    </tr>\n",
       "    <tr>\n",
       "      <th>3</th>\n",
       "      <td>585866060991078401</td>\n",
       "      <td>Wed Apr 08 18:05:28 +0000 2015</td>\n",
       "      <td>New approach against HIV 'promising' http://bb...</td>\n",
       "      <td>BBC</td>\n",
       "    </tr>\n",
       "    <tr>\n",
       "      <th>4</th>\n",
       "      <td>585794106170839041</td>\n",
       "      <td>Wed Apr 08 13:19:33 +0000 2015</td>\n",
       "      <td>Coalition 'undermined NHS' - doctors http://bb...</td>\n",
       "      <td>BBC</td>\n",
       "    </tr>\n",
       "  </tbody>\n",
       "</table>\n",
       "</div>"
      ],
      "text/plain": [
       "                   id                            date  \\\n",
       "0  585978391360221184  Thu Apr 09 01:31:50 +0000 2015   \n",
       "1  585947808772960257  Wed Apr 08 23:30:18 +0000 2015   \n",
       "2  585947807816650752  Wed Apr 08 23:30:18 +0000 2015   \n",
       "3  585866060991078401  Wed Apr 08 18:05:28 +0000 2015   \n",
       "4  585794106170839041  Wed Apr 08 13:19:33 +0000 2015   \n",
       "\n",
       "                                                text channel  \n",
       "0  Breast cancer risk test devised http://bbc.in/...     BBC  \n",
       "1  GP workload harming care - BMA poll http://bbc...     BBC  \n",
       "2  Short people's 'heart risk greater' http://bbc...     BBC  \n",
       "3  New approach against HIV 'promising' http://bb...     BBC  \n",
       "4  Coalition 'undermined NHS' - doctors http://bb...     BBC  "
      ]
     },
     "execution_count": 8,
     "metadata": {},
     "output_type": "execute_result"
    }
   ],
   "source": [
    "d1.head(5)"
   ]
  },
  {
   "cell_type": "code",
   "execution_count": 9,
   "metadata": {},
   "outputs": [
    {
     "name": "stdout",
     "output_type": "stream",
     "text": [
      "Dataset size (4045, 3)\n",
      "row number:  4045\n",
      "feature number:  4\n",
      "\n",
      "names of features:  ['id', 'date', 'text', 'channel']\n",
      "-------------------\n",
      "full data loaded\n",
      "-------------------\n"
     ]
    },
    {
     "name": "stderr",
     "output_type": "stream",
     "text": [
      "b'Skipping line 1422: expected 3 fields, saw 4\\nSkipping line 1461: expected 3 fields, saw 4\\nSkipping line 1468: expected 3 fields, saw 4\\nSkipping line 1507: expected 3 fields, saw 4\\nSkipping line 1547: expected 3 fields, saw 4\\nSkipping line 1728: expected 3 fields, saw 4\\nSkipping line 1738: expected 3 fields, saw 4\\nSkipping line 1742: expected 3 fields, saw 4\\nSkipping line 1847: expected 3 fields, saw 5\\nSkipping line 2082: expected 3 fields, saw 4\\nSkipping line 2125: expected 3 fields, saw 4\\nSkipping line 3860: expected 3 fields, saw 4\\n'\n"
     ]
    }
   ],
   "source": [
    "#now, the dataset for CNN\n",
    "d2=pd.read_csv('cnnhealth.txt',  sep='|', encoding='ANSI', header = None, error_bad_lines=False)\n",
    "\n",
    "print('Dataset size', d2.shape)\n",
    "\n",
    "\n",
    "d2 = d2.rename(columns={d2.columns[0]: \"id\", d2.columns[1]: \"date\", d2.columns[2]: \"text\"})\n",
    "#again, creating a column with channel's name\n",
    "d2['channel'] = 'CNN'\n",
    "num_rows2, num_feature2 = d2.shape\n",
    "\n",
    "print('row number: ', num_rows2)\n",
    "print('feature number: ', num_feature2)\n",
    "print()\n",
    "print('names of features: ', list(d2))\n",
    "\n",
    "print('-------------------')\n",
    "print('full data loaded')\n",
    "print('-------------------')"
   ]
  },
  {
   "cell_type": "code",
   "execution_count": 10,
   "metadata": {},
   "outputs": [
    {
     "data": {
      "text/html": [
       "<div>\n",
       "<style scoped>\n",
       "    .dataframe tbody tr th:only-of-type {\n",
       "        vertical-align: middle;\n",
       "    }\n",
       "\n",
       "    .dataframe tbody tr th {\n",
       "        vertical-align: top;\n",
       "    }\n",
       "\n",
       "    .dataframe thead th {\n",
       "        text-align: right;\n",
       "    }\n",
       "</style>\n",
       "<table border=\"1\" class=\"dataframe\">\n",
       "  <thead>\n",
       "    <tr style=\"text-align: right;\">\n",
       "      <th></th>\n",
       "      <th>id</th>\n",
       "      <th>date</th>\n",
       "      <th>text</th>\n",
       "      <th>channel</th>\n",
       "    </tr>\n",
       "  </thead>\n",
       "  <tbody>\n",
       "    <tr>\n",
       "      <th>0</th>\n",
       "      <td>576880531301801984</td>\n",
       "      <td>Sat Mar 14 23:00:11 +0000 2015</td>\n",
       "      <td>An abundance of online info can turn us into e...</td>\n",
       "      <td>CNN</td>\n",
       "    </tr>\n",
       "    <tr>\n",
       "      <th>1</th>\n",
       "      <td>576820122666471424</td>\n",
       "      <td>Sat Mar 14 19:00:08 +0000 2015</td>\n",
       "      <td>A plant-based diet that incorporates fish may ...</td>\n",
       "      <td>CNN</td>\n",
       "    </tr>\n",
       "    <tr>\n",
       "      <th>2</th>\n",
       "      <td>576744652717461504</td>\n",
       "      <td>Sat Mar 14 14:00:15 +0000 2015</td>\n",
       "      <td>It doesn't take much to damage your hearing at...</td>\n",
       "      <td>CNN</td>\n",
       "    </tr>\n",
       "    <tr>\n",
       "      <th>3</th>\n",
       "      <td>576736754436304896</td>\n",
       "      <td>Sat Mar 14 13:28:52 +0000 2015</td>\n",
       "      <td>RT @CNN: Forever young? Discover this islandвЂ...</td>\n",
       "      <td>CNN</td>\n",
       "    </tr>\n",
       "    <tr>\n",
       "      <th>4</th>\n",
       "      <td>576736614766010368</td>\n",
       "      <td>Sat Mar 14 13:28:18 +0000 2015</td>\n",
       "      <td>RT @CNN: Is post-traumatic stress disorder in ...</td>\n",
       "      <td>CNN</td>\n",
       "    </tr>\n",
       "  </tbody>\n",
       "</table>\n",
       "</div>"
      ],
      "text/plain": [
       "                   id                            date  \\\n",
       "0  576880531301801984  Sat Mar 14 23:00:11 +0000 2015   \n",
       "1  576820122666471424  Sat Mar 14 19:00:08 +0000 2015   \n",
       "2  576744652717461504  Sat Mar 14 14:00:15 +0000 2015   \n",
       "3  576736754436304896  Sat Mar 14 13:28:52 +0000 2015   \n",
       "4  576736614766010368  Sat Mar 14 13:28:18 +0000 2015   \n",
       "\n",
       "                                                text channel  \n",
       "0  An abundance of online info can turn us into e...     CNN  \n",
       "1  A plant-based diet that incorporates fish may ...     CNN  \n",
       "2  It doesn't take much to damage your hearing at...     CNN  \n",
       "3  RT @CNN: Forever young? Discover this islandвЂ...     CNN  \n",
       "4  RT @CNN: Is post-traumatic stress disorder in ...     CNN  "
      ]
     },
     "execution_count": 10,
     "metadata": {},
     "output_type": "execute_result"
    }
   ],
   "source": [
    "d2.head(5)"
   ]
  },
  {
   "cell_type": "code",
   "execution_count": 11,
   "metadata": {},
   "outputs": [
    {
     "name": "stdout",
     "output_type": "stream",
     "text": [
      "Dataset size (7974, 4)\n"
     ]
    },
    {
     "data": {
      "text/html": [
       "<div>\n",
       "<style scoped>\n",
       "    .dataframe tbody tr th:only-of-type {\n",
       "        vertical-align: middle;\n",
       "    }\n",
       "\n",
       "    .dataframe tbody tr th {\n",
       "        vertical-align: top;\n",
       "    }\n",
       "\n",
       "    .dataframe thead th {\n",
       "        text-align: right;\n",
       "    }\n",
       "</style>\n",
       "<table border=\"1\" class=\"dataframe\">\n",
       "  <thead>\n",
       "    <tr style=\"text-align: right;\">\n",
       "      <th></th>\n",
       "      <th>id</th>\n",
       "      <th>date</th>\n",
       "      <th>text</th>\n",
       "      <th>channel</th>\n",
       "    </tr>\n",
       "  </thead>\n",
       "  <tbody>\n",
       "    <tr>\n",
       "      <th>0</th>\n",
       "      <td>585978391360221184</td>\n",
       "      <td>Thu Apr 09 01:31:50 +0000 2015</td>\n",
       "      <td>Breast cancer risk test devised http://bbc.in/...</td>\n",
       "      <td>BBC</td>\n",
       "    </tr>\n",
       "    <tr>\n",
       "      <th>1</th>\n",
       "      <td>585947808772960257</td>\n",
       "      <td>Wed Apr 08 23:30:18 +0000 2015</td>\n",
       "      <td>GP workload harming care - BMA poll http://bbc...</td>\n",
       "      <td>BBC</td>\n",
       "    </tr>\n",
       "    <tr>\n",
       "      <th>2</th>\n",
       "      <td>585947807816650752</td>\n",
       "      <td>Wed Apr 08 23:30:18 +0000 2015</td>\n",
       "      <td>Short people's 'heart risk greater' http://bbc...</td>\n",
       "      <td>BBC</td>\n",
       "    </tr>\n",
       "    <tr>\n",
       "      <th>3</th>\n",
       "      <td>585866060991078401</td>\n",
       "      <td>Wed Apr 08 18:05:28 +0000 2015</td>\n",
       "      <td>New approach against HIV 'promising' http://bb...</td>\n",
       "      <td>BBC</td>\n",
       "    </tr>\n",
       "    <tr>\n",
       "      <th>4</th>\n",
       "      <td>585794106170839041</td>\n",
       "      <td>Wed Apr 08 13:19:33 +0000 2015</td>\n",
       "      <td>Coalition 'undermined NHS' - doctors http://bb...</td>\n",
       "      <td>BBC</td>\n",
       "    </tr>\n",
       "  </tbody>\n",
       "</table>\n",
       "</div>"
      ],
      "text/plain": [
       "                   id                            date  \\\n",
       "0  585978391360221184  Thu Apr 09 01:31:50 +0000 2015   \n",
       "1  585947808772960257  Wed Apr 08 23:30:18 +0000 2015   \n",
       "2  585947807816650752  Wed Apr 08 23:30:18 +0000 2015   \n",
       "3  585866060991078401  Wed Apr 08 18:05:28 +0000 2015   \n",
       "4  585794106170839041  Wed Apr 08 13:19:33 +0000 2015   \n",
       "\n",
       "                                                text channel  \n",
       "0  Breast cancer risk test devised http://bbc.in/...     BBC  \n",
       "1  GP workload harming care - BMA poll http://bbc...     BBC  \n",
       "2  Short people's 'heart risk greater' http://bbc...     BBC  \n",
       "3  New approach against HIV 'promising' http://bb...     BBC  \n",
       "4  Coalition 'undermined NHS' - doctors http://bb...     BBC  "
      ]
     },
     "execution_count": 11,
     "metadata": {},
     "output_type": "execute_result"
    }
   ],
   "source": [
    "#here, I join two datasets\n",
    "df = d1.append(d2)\n",
    "\n",
    "print('Dataset size', df.shape)\n",
    "df.head(5)\n",
    "#df.tail(5)"
   ]
  },
  {
   "cell_type": "code",
   "execution_count": 12,
   "metadata": {},
   "outputs": [
    {
     "data": {
      "text/html": [
       "<div>\n",
       "<style scoped>\n",
       "    .dataframe tbody tr th:only-of-type {\n",
       "        vertical-align: middle;\n",
       "    }\n",
       "\n",
       "    .dataframe tbody tr th {\n",
       "        vertical-align: top;\n",
       "    }\n",
       "\n",
       "    .dataframe thead th {\n",
       "        text-align: right;\n",
       "    }\n",
       "</style>\n",
       "<table border=\"1\" class=\"dataframe\">\n",
       "  <thead>\n",
       "    <tr style=\"text-align: right;\">\n",
       "      <th></th>\n",
       "      <th>id</th>\n",
       "      <th>date</th>\n",
       "      <th>text</th>\n",
       "      <th>channel</th>\n",
       "    </tr>\n",
       "  </thead>\n",
       "  <tbody>\n",
       "    <tr>\n",
       "      <th>0</th>\n",
       "      <td>585978391360221184</td>\n",
       "      <td>Thu Apr 09 01:31:50 +0000 2015</td>\n",
       "      <td>breast cancer risk test devised</td>\n",
       "      <td>BBC</td>\n",
       "    </tr>\n",
       "    <tr>\n",
       "      <th>1</th>\n",
       "      <td>585947808772960257</td>\n",
       "      <td>Wed Apr 08 23:30:18 +0000 2015</td>\n",
       "      <td>gp workload harming care - bma poll</td>\n",
       "      <td>BBC</td>\n",
       "    </tr>\n",
       "    <tr>\n",
       "      <th>2</th>\n",
       "      <td>585947807816650752</td>\n",
       "      <td>Wed Apr 08 23:30:18 +0000 2015</td>\n",
       "      <td>short people 's 'heart risk greater '</td>\n",
       "      <td>BBC</td>\n",
       "    </tr>\n",
       "    <tr>\n",
       "      <th>3</th>\n",
       "      <td>585866060991078401</td>\n",
       "      <td>Wed Apr 08 18:05:28 +0000 2015</td>\n",
       "      <td>new approach against hiv 'promising '</td>\n",
       "      <td>BBC</td>\n",
       "    </tr>\n",
       "    <tr>\n",
       "      <th>4</th>\n",
       "      <td>585794106170839041</td>\n",
       "      <td>Wed Apr 08 13:19:33 +0000 2015</td>\n",
       "      <td>coalition 'undermined nhs ' - doctors</td>\n",
       "      <td>BBC</td>\n",
       "    </tr>\n",
       "  </tbody>\n",
       "</table>\n",
       "</div>"
      ],
      "text/plain": [
       "                   id                            date  \\\n",
       "0  585978391360221184  Thu Apr 09 01:31:50 +0000 2015   \n",
       "1  585947808772960257  Wed Apr 08 23:30:18 +0000 2015   \n",
       "2  585947807816650752  Wed Apr 08 23:30:18 +0000 2015   \n",
       "3  585866060991078401  Wed Apr 08 18:05:28 +0000 2015   \n",
       "4  585794106170839041  Wed Apr 08 13:19:33 +0000 2015   \n",
       "\n",
       "                                    text channel  \n",
       "0        breast cancer risk test devised     BBC  \n",
       "1    gp workload harming care - bma poll     BBC  \n",
       "2  short people 's 'heart risk greater '     BBC  \n",
       "3  new approach against hiv 'promising '     BBC  \n",
       "4  coalition 'undermined nhs ' - doctors     BBC  "
      ]
     },
     "execution_count": 12,
     "metadata": {},
     "output_type": "execute_result"
    }
   ],
   "source": [
    "#cleaning and tokenizing the data\n",
    "df_clean0 = clear_data(df)\n",
    "df_clean = tokenize_and_stem(df_clean0)\n",
    "df_clean.head()"
   ]
  },
  {
   "cell_type": "code",
   "execution_count": 13,
   "metadata": {},
   "outputs": [
    {
     "name": "stdout",
     "output_type": "stream",
     "text": [
      "documents number :  7974 feature number:  1693\n"
     ]
    }
   ],
   "source": [
    "#creating a vector of words based on the pre-trained on the Amazon data vectorizer\n",
    "X = vec.transform(df_clean['text'])\n",
    "chan_data = vec.transform(df_clean['text']).toarray()\n",
    "\n",
    "num_docs, num_feature = X.shape\n",
    "print('documents number : ', num_docs, 'feature number: ', num_feature)"
   ]
  },
  {
   "cell_type": "code",
   "execution_count": 14,
   "metadata": {},
   "outputs": [
    {
     "name": "stdout",
     "output_type": "stream",
     "text": [
      "[0 0 0 ... 0 0 0]\n"
     ]
    }
   ],
   "source": [
    "#fitting Random Forest classifier\n",
    "clf.fit(X_train, y_train)\n",
    "\n",
    "#predicting based on the channels' data \n",
    "y_predicted1 = clf.predict(chan_data)\n",
    "\n",
    "print(y_predicted1) #this is the vector with sentiment scores for channels' dataset "
   ]
  },
  {
   "cell_type": "code",
   "execution_count": 15,
   "metadata": {},
   "outputs": [
    {
     "name": "stdout",
     "output_type": "stream",
     "text": [
      "<class 'pandas.core.frame.DataFrame'>\n",
      "Int64Index: 7974 entries, 0 to 4044\n",
      "Data columns (total 5 columns):\n",
      "id         7974 non-null int64\n",
      "date       7974 non-null object\n",
      "text       7974 non-null object\n",
      "channel    7974 non-null object\n",
      "score      7974 non-null int64\n",
      "dtypes: int64(2), object(3)\n",
      "memory usage: 373.8+ KB\n"
     ]
    }
   ],
   "source": [
    "#len(y_predicted1)\n",
    "df_clean['score'] = y_predicted1 #adding scores to the dataset\n",
    "df_clean.info()"
   ]
  },
  {
   "cell_type": "code",
   "execution_count": 18,
   "metadata": {},
   "outputs": [
    {
     "data": {
      "text/plain": [
       "<matplotlib.axes._subplots.AxesSubplot at 0x20bd2cd2f28>"
      ]
     },
     "execution_count": 18,
     "metadata": {},
     "output_type": "execute_result"
    },
    {
     "data": {
      "image/png": "[encoded data removed]",
      "text/plain": [
       "<Figure size 432x288 with 1 Axes>"
      ]
     },
     "metadata": {
      "needs_background": "light"
     },
     "output_type": "display_data"
    }
   ],
   "source": [
    "import seaborn as sns \n",
    "sns.countplot(x='score', hue='channel', data=df_clean) #plotting scores for each channel"
   ]
  },
  {
   "cell_type": "markdown",
   "metadata": {},
   "source": [
    "On the graph above it can be seen that the majority of news produced by both channels are rather neutral ('0' score), as predicted by the model. Nevertheless, in case of positive sentiment ('1' score) CNN wins. So, I can assume that CNN produces more positive news. "
   ]
  }
 ],
 "metadata": {
  "kernelspec": {
   "display_name": "Python 3",
   "language": "python",
   "name": "python3"
  },
  "language_info": {
   "codemirror_mode": {
    "name": "ipython",
    "version": 3
   },
   "file_extension": ".py",
   "mimetype": "text/x-python",
   "name": "python",
   "nbconvert_exporter": "python",
   "pygments_lexer": "ipython3",
   "version": "3.8.5"
  }
 },
 "nbformat": 4,
 "nbformat_minor": 4
}
